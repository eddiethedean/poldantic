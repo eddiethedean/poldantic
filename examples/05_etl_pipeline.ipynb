{
 "cells": [
  {
   "cell_type": "markdown",
   "metadata": {},
   "source": [
    "# 05 - ETL Pipeline Example\n",
    "\n",
    "Real-world data pipeline: Extract, Transform, Load with type safety."
   ]
  },
  {
   "cell_type": "code",
   "execution_count": 1,
   "metadata": {},
   "outputs": [],
   "source": [
    "from typing import Optional, List\n",
    "from pydantic import BaseModel, Field\n",
    "from datetime import datetime\n",
    "import polars as pl\n",
    "from poldantic import to_polars_schema, to_pydantic_model"
   ]
  },
  {
   "cell_type": "markdown",
   "metadata": {},
   "source": [
    "## 1. Define Data Models"
   ]
  },
  {
   "cell_type": "code",
   "execution_count": 2,
   "metadata": {},
   "outputs": [
    {
     "output_type": "stream",
     "name": "stdout",
     "text": [
      "Models defined\n"
     ]
    }
   ],
   "source": [
    "class RawOrder(BaseModel):\n",
    "    order_id: int\n",
    "    customer_name: str\n",
    "    product: str\n",
    "    quantity: int\n",
    "    price: float\n",
    "    status: str\n",
    "\n",
    "class ProcessedOrder(BaseModel):\n",
    "    order_id: int\n",
    "    customer_name: str\n",
    "    product: str\n",
    "    quantity: int\n",
    "    price: float\n",
    "    total: float\n",
    "    status: str\n",
    "\n",
    "print('Models defined')"
   ]
  },
  {
   "cell_type": "markdown",
   "metadata": {},
   "source": [
    "## 2. Extract - Load Raw Data"
   ]
  },
  {
   "cell_type": "code",
   "execution_count": 3,
   "metadata": {},
   "outputs": [
    {
     "output_type": "stream",
     "name": "stdout",
     "text": [
      "Extracted 4 orders\n"
     ]
    }
   ],
   "source": [
    "# Simulate raw data extraction\n",
    "raw_data = [\n",
    "    {'order_id': 1, 'customer_name': 'Alice', 'product': 'Widget', 'quantity': 5, 'price': 10.0, 'status': 'pending'},\n",
    "    {'order_id': 2, 'customer_name': 'Bob', 'product': 'Gadget', 'quantity': 3, 'price': 25.0, 'status': 'completed'},\n",
    "    {'order_id': 3, 'customer_name': 'Charlie', 'product': 'Widget', 'quantity': 10, 'price': 10.0, 'status': 'pending'},\n",
    "    {'order_id': 4, 'customer_name': 'Diana', 'product': 'Gizmo', 'quantity': 2, 'price': 50.0, 'status': 'completed'},\n",
    "]\n",
    "\n",
    "# Validate with Pydantic\n",
    "validated_orders = [RawOrder(**order) for order in raw_data]\n",
    "print(f'Extracted {len(validated_orders)} orders')"
   ]
  },
  {
   "cell_type": "markdown",
   "metadata": {},
   "source": [
    "## 3. Transform - Process with Polars"
   ]
  },
  {
   "cell_type": "code",
   "execution_count": 4,
   "metadata": {},
   "outputs": [
    {
     "output_type": "stream",
     "name": "stdout",
     "text": [
      "Original data:\n",
      "shape: (4, 6)\n",
      "\u250c\u2500\u2500\u2500\u2500\u2500\u2500\u2500\u2500\u2500\u2500\u252c\u2500\u2500\u2500\u2500\u2500\u2500\u2500\u2500\u2500\u2500\u2500\u2500\u2500\u2500\u2500\u252c\u2500\u2500\u2500\u2500\u2500\u2500\u2500\u2500\u2500\u252c\u2500\u2500\u2500\u2500\u2500\u2500\u2500\u2500\u2500\u2500\u252c\u2500\u2500\u2500\u2500\u2500\u2500\u2500\u252c\u2500\u2500\u2500\u2500\u2500\u2500\u2500\u2500\u2500\u2500\u2500\u2510\n",
      "\u2502 order_id \u2506 customer_name \u2506 product \u2506 quantity \u2506 price \u2506 status    \u2502\n",
      "\u2502 ---      \u2506 ---           \u2506 ---     \u2506 ---      \u2506 ---   \u2506 ---       \u2502\n",
      "\u2502 i64      \u2506 str           \u2506 str     \u2506 i64      \u2506 f64   \u2506 str       \u2502\n",
      "\u255e\u2550\u2550\u2550\u2550\u2550\u2550\u2550\u2550\u2550\u2550\u256a\u2550\u2550\u2550\u2550\u2550\u2550\u2550\u2550\u2550\u2550\u2550\u2550\u2550\u2550\u2550\u256a\u2550\u2550\u2550\u2550\u2550\u2550\u2550\u2550\u2550\u256a\u2550\u2550\u2550\u2550\u2550\u2550\u2550\u2550\u2550\u2550\u256a\u2550\u2550\u2550\u2550\u2550\u2550\u2550\u256a\u2550\u2550\u2550\u2550\u2550\u2550\u2550\u2550\u2550\u2550\u2550\u2561\n",
      "\u2502 1        \u2506 Alice         \u2506 Widget  \u2506 5        \u2506 10.0  \u2506 pending   \u2502\n",
      "\u2502 2        \u2506 Bob           \u2506 Gadget  \u2506 3        \u2506 25.0  \u2506 completed \u2502\n",
      "\u2502 3        \u2506 Charlie       \u2506 Widget  \u2506 10       \u2506 10.0  \u2506 pending   \u2502\n",
      "\u2502 4        \u2506 Diana         \u2506 Gizmo   \u2506 2        \u2506 50.0  \u2506 completed \u2502\n",
      "\u2514\u2500\u2500\u2500\u2500\u2500\u2500\u2500\u2500\u2500\u2500\u2534\u2500\u2500\u2500\u2500\u2500\u2500\u2500\u2500\u2500\u2500\u2500\u2500\u2500\u2500\u2500\u2534\u2500\u2500\u2500\u2500\u2500\u2500\u2500\u2500\u2500\u2534\u2500\u2500\u2500\u2500\u2500\u2500\u2500\u2500\u2500\u2500\u2534\u2500\u2500\u2500\u2500\u2500\u2500\u2500\u2534\u2500\u2500\u2500\u2500\u2500\u2500\u2500\u2500\u2500\u2500\u2500\u2518\n"
     ]
    }
   ],
   "source": [
    "# Convert to Polars for efficient processing\n",
    "schema = to_polars_schema(RawOrder)\n",
    "df = pl.DataFrame([order.model_dump() for order in validated_orders], schema=schema)\n",
    "\n",
    "print('Original data:')\n",
    "print(df)"
   ]
  },
  {
   "cell_type": "code",
   "execution_count": 5,
   "metadata": {},
   "outputs": [
    {
     "output_type": "stream",
     "name": "stdout",
     "text": [
      "\n",
      "With totals:\n",
      "shape: (4, 7)\n",
      "\u250c\u2500\u2500\u2500\u2500\u2500\u2500\u2500\u2500\u2500\u2500\u252c\u2500\u2500\u2500\u2500\u2500\u2500\u2500\u2500\u2500\u2500\u2500\u2500\u2500\u2500\u2500\u252c\u2500\u2500\u2500\u2500\u2500\u2500\u2500\u2500\u2500\u252c\u2500\u2500\u2500\u2500\u2500\u2500\u2500\u2500\u2500\u2500\u252c\u2500\u2500\u2500\u2500\u2500\u2500\u2500\u252c\u2500\u2500\u2500\u2500\u2500\u2500\u2500\u2500\u2500\u2500\u2500\u252c\u2500\u2500\u2500\u2500\u2500\u2500\u2500\u2510\n",
      "\u2502 order_id \u2506 customer_name \u2506 product \u2506 quantity \u2506 price \u2506 status    \u2506 total \u2502\n",
      "\u2502 ---      \u2506 ---           \u2506 ---     \u2506 ---      \u2506 ---   \u2506 ---       \u2506 ---   \u2502\n",
      "\u2502 i64      \u2506 str           \u2506 str     \u2506 i64      \u2506 f64   \u2506 str       \u2506 f64   \u2502\n",
      "\u255e\u2550\u2550\u2550\u2550\u2550\u2550\u2550\u2550\u2550\u2550\u256a\u2550\u2550\u2550\u2550\u2550\u2550\u2550\u2550\u2550\u2550\u2550\u2550\u2550\u2550\u2550\u256a\u2550\u2550\u2550\u2550\u2550\u2550\u2550\u2550\u2550\u256a\u2550\u2550\u2550\u2550\u2550\u2550\u2550\u2550\u2550\u2550\u256a\u2550\u2550\u2550\u2550\u2550\u2550\u2550\u256a\u2550\u2550\u2550\u2550\u2550\u2550\u2550\u2550\u2550\u2550\u2550\u256a\u2550\u2550\u2550\u2550\u2550\u2550\u2550\u2561\n",
      "\u2502 1        \u2506 Alice         \u2506 Widget  \u2506 5        \u2506 10.0  \u2506 pending   \u2506 50.0  \u2502\n",
      "\u2502 2        \u2506 Bob           \u2506 Gadget  \u2506 3        \u2506 25.0  \u2506 completed \u2506 75.0  \u2502\n",
      "\u2502 3        \u2506 Charlie       \u2506 Widget  \u2506 10       \u2506 10.0  \u2506 pending   \u2506 100.0 \u2502\n",
      "\u2502 4        \u2506 Diana         \u2506 Gizmo   \u2506 2        \u2506 50.0  \u2506 completed \u2506 100.0 \u2502\n",
      "\u2514\u2500\u2500\u2500\u2500\u2500\u2500\u2500\u2500\u2500\u2500\u2534\u2500\u2500\u2500\u2500\u2500\u2500\u2500\u2500\u2500\u2500\u2500\u2500\u2500\u2500\u2500\u2534\u2500\u2500\u2500\u2500\u2500\u2500\u2500\u2500\u2500\u2534\u2500\u2500\u2500\u2500\u2500\u2500\u2500\u2500\u2500\u2500\u2534\u2500\u2500\u2500\u2500\u2500\u2500\u2500\u2534\u2500\u2500\u2500\u2500\u2500\u2500\u2500\u2500\u2500\u2500\u2500\u2534\u2500\u2500\u2500\u2500\u2500\u2500\u2500\u2518\n"
     ]
    }
   ],
   "source": [
    "# Transform: Calculate totals\n",
    "df_transformed = df.with_columns([\n",
    "    (pl.col('quantity') * pl.col('price')).alias('total')\n",
    "])\n",
    "\n",
    "print('\\nWith totals:')\n",
    "print(df_transformed)"
   ]
  },
  {
   "cell_type": "code",
   "execution_count": 6,
   "metadata": {},
   "outputs": [
    {
     "output_type": "stream",
     "name": "stdout",
     "text": [
      "\n",
      "Completed orders:\n",
      "shape: (2, 7)\n",
      "\u250c\u2500\u2500\u2500\u2500\u2500\u2500\u2500\u2500\u2500\u2500\u252c\u2500\u2500\u2500\u2500\u2500\u2500\u2500\u2500\u2500\u2500\u2500\u2500\u2500\u2500\u2500\u252c\u2500\u2500\u2500\u2500\u2500\u2500\u2500\u2500\u2500\u252c\u2500\u2500\u2500\u2500\u2500\u2500\u2500\u2500\u2500\u2500\u252c\u2500\u2500\u2500\u2500\u2500\u2500\u2500\u252c\u2500\u2500\u2500\u2500\u2500\u2500\u2500\u2500\u2500\u2500\u2500\u252c\u2500\u2500\u2500\u2500\u2500\u2500\u2500\u2510\n",
      "\u2502 order_id \u2506 customer_name \u2506 product \u2506 quantity \u2506 price \u2506 status    \u2506 total \u2502\n",
      "\u2502 ---      \u2506 ---           \u2506 ---     \u2506 ---      \u2506 ---   \u2506 ---       \u2506 ---   \u2502\n",
      "\u2502 i64      \u2506 str           \u2506 str     \u2506 i64      \u2506 f64   \u2506 str       \u2506 f64   \u2502\n",
      "\u255e\u2550\u2550\u2550\u2550\u2550\u2550\u2550\u2550\u2550\u2550\u256a\u2550\u2550\u2550\u2550\u2550\u2550\u2550\u2550\u2550\u2550\u2550\u2550\u2550\u2550\u2550\u256a\u2550\u2550\u2550\u2550\u2550\u2550\u2550\u2550\u2550\u256a\u2550\u2550\u2550\u2550\u2550\u2550\u2550\u2550\u2550\u2550\u256a\u2550\u2550\u2550\u2550\u2550\u2550\u2550\u256a\u2550\u2550\u2550\u2550\u2550\u2550\u2550\u2550\u2550\u2550\u2550\u256a\u2550\u2550\u2550\u2550\u2550\u2550\u2550\u2561\n",
      "\u2502 2        \u2506 Bob           \u2506 Gadget  \u2506 3        \u2506 25.0  \u2506 completed \u2506 75.0  \u2502\n",
      "\u2502 4        \u2506 Diana         \u2506 Gizmo   \u2506 2        \u2506 50.0  \u2506 completed \u2506 100.0 \u2502\n",
      "\u2514\u2500\u2500\u2500\u2500\u2500\u2500\u2500\u2500\u2500\u2500\u2534\u2500\u2500\u2500\u2500\u2500\u2500\u2500\u2500\u2500\u2500\u2500\u2500\u2500\u2500\u2500\u2534\u2500\u2500\u2500\u2500\u2500\u2500\u2500\u2500\u2500\u2534\u2500\u2500\u2500\u2500\u2500\u2500\u2500\u2500\u2500\u2500\u2534\u2500\u2500\u2500\u2500\u2500\u2500\u2500\u2534\u2500\u2500\u2500\u2500\u2500\u2500\u2500\u2500\u2500\u2500\u2500\u2534\u2500\u2500\u2500\u2500\u2500\u2500\u2500\u2518\n"
     ]
    }
   ],
   "source": [
    "# Filter completed orders\n",
    "df_completed = df_transformed.filter(pl.col('status') == 'completed')\n",
    "\n",
    "print('\\nCompleted orders:')\n",
    "print(df_completed)"
   ]
  },
  {
   "cell_type": "code",
   "execution_count": 7,
   "metadata": {},
   "outputs": [
    {
     "output_type": "stream",
     "name": "stdout",
     "text": [
      "\n",
      "Product statistics:\n",
      "shape: (3, 4)\n",
      "\u250c\u2500\u2500\u2500\u2500\u2500\u2500\u2500\u2500\u2500\u252c\u2500\u2500\u2500\u2500\u2500\u2500\u2500\u2500\u2500\u2500\u2500\u2500\u2500\u2500\u2500\u2500\u252c\u2500\u2500\u2500\u2500\u2500\u2500\u2500\u2500\u2500\u2500\u2500\u2500\u2500\u2500\u2500\u252c\u2500\u2500\u2500\u2500\u2500\u2500\u2500\u2500\u2500\u2500\u2500\u2500\u2500\u2510\n",
      "\u2502 product \u2506 total_quantity \u2506 total_revenue \u2506 order_count \u2502\n",
      "\u2502 ---     \u2506 ---            \u2506 ---           \u2506 ---         \u2502\n",
      "\u2502 str     \u2506 i64            \u2506 f64           \u2506 u32         \u2502\n",
      "\u255e\u2550\u2550\u2550\u2550\u2550\u2550\u2550\u2550\u2550\u256a\u2550\u2550\u2550\u2550\u2550\u2550\u2550\u2550\u2550\u2550\u2550\u2550\u2550\u2550\u2550\u2550\u256a\u2550\u2550\u2550\u2550\u2550\u2550\u2550\u2550\u2550\u2550\u2550\u2550\u2550\u2550\u2550\u256a\u2550\u2550\u2550\u2550\u2550\u2550\u2550\u2550\u2550\u2550\u2550\u2550\u2550\u2561\n",
      "\u2502 Widget  \u2506 15             \u2506 150.0         \u2506 2           \u2502\n",
      "\u2502 Gizmo   \u2506 2              \u2506 100.0         \u2506 1           \u2502\n",
      "\u2502 Gadget  \u2506 3              \u2506 75.0          \u2506 1           \u2502\n",
      "\u2514\u2500\u2500\u2500\u2500\u2500\u2500\u2500\u2500\u2500\u2534\u2500\u2500\u2500\u2500\u2500\u2500\u2500\u2500\u2500\u2500\u2500\u2500\u2500\u2500\u2500\u2500\u2534\u2500\u2500\u2500\u2500\u2500\u2500\u2500\u2500\u2500\u2500\u2500\u2500\u2500\u2500\u2500\u2534\u2500\u2500\u2500\u2500\u2500\u2500\u2500\u2500\u2500\u2500\u2500\u2500\u2500\u2518\n"
     ]
    }
   ],
   "source": [
    "# Aggregate statistics\n",
    "stats = df_transformed.group_by('product').agg([\n",
    "    pl.col('quantity').sum().alias('total_quantity'),\n",
    "    pl.col('total').sum().alias('total_revenue'),\n",
    "    pl.col('order_id').count().alias('order_count')\n",
    "]).sort('total_revenue', descending=True)\n",
    "\n",
    "print('\\nProduct statistics:')\n",
    "print(stats)"
   ]
  },
  {
   "cell_type": "markdown",
   "metadata": {},
   "source": [
    "## 4. Load - Validate Output"
   ]
  },
  {
   "cell_type": "code",
   "execution_count": 8,
   "metadata": {},
   "outputs": [
    {
     "output_type": "stream",
     "name": "stdout",
     "text": [
      "\n",
      "Validated 4 processed orders:\n",
      "  Order 1: $50.00\n",
      "  Order 2: $75.00\n",
      "  Order 3: $100.00\n"
     ]
    }
   ],
   "source": [
    "# Convert back to Pydantic for validation\n",
    "output_dicts = df_transformed.to_dicts()\n",
    "validated_output = [ProcessedOrder(**order) for order in output_dicts]\n",
    "\n",
    "print(f'\\nValidated {len(validated_output)} processed orders:')\n",
    "for order in validated_output[:3]:\n",
    "    print(f'  Order {order.order_id}: ${order.total:.2f}')"
   ]
  },
  {
   "cell_type": "markdown",
   "metadata": {},
   "source": [
    "## Summary\n",
    "\n",
    "This ETL pipeline demonstrates:\n",
    "1. \u2705 Input validation with Pydantic\n",
    "2. \u2705 High-performance transformations with Polars\n",
    "3. \u2705 Type-safe schema conversion\n",
    "4. \u2705 Output validation before loading\n",
    "5. \u2705 Full type safety end-to-end"
   ]
  }
 ],
 "metadata": {
  "kernelspec": {
   "display_name": "Python 3",
   "language": "python",
   "name": "python3"
  }
 },
 "nbformat": 4,
 "nbformat_minor": 5
}