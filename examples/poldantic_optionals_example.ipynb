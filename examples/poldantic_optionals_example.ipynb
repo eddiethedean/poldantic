{
 "cells": [
  {
   "cell_type": "markdown",
   "id": "07e2679c",
   "metadata": {},
   "source": [
    "# 🧪 Poldantic: Mixed and Optional Types Example\n",
    "\n",
    "This notebook shows how `to_polars_schema` handles Optionals and lists of nested models."
   ]
  },
  {
   "cell_type": "code",
   "execution_count": 1,
   "id": "e070d89c",
   "metadata": {},
   "outputs": [],
   "source": [
    "from typing import Optional, List, Union\n",
    "from pydantic import BaseModel\n",
    "import polars as pl\n",
    "from poldantic import to_polars_schema"
   ]
  },
  {
   "cell_type": "code",
   "execution_count": 2,
   "id": "5c1f1b57",
   "metadata": {},
   "outputs": [],
   "source": [
    "class Location(BaseModel):\n",
    "    lat: float\n",
    "    lon: float"
   ]
  },
  {
   "cell_type": "code",
   "execution_count": 3,
   "id": "e9bdab0f",
   "metadata": {},
   "outputs": [],
   "source": [
    "class Event(BaseModel):\n",
    "    id: int | str\n",
    "    name: Optional[str]\n",
    "    location: Optional[Location]\n",
    "    tags: Optional[List[str]]\n",
    "    data: Union[str, None]"
   ]
  },
  {
   "cell_type": "code",
   "execution_count": 4,
   "id": "f3020103",
   "metadata": {},
   "outputs": [
    {
     "name": "stdout",
     "output_type": "stream",
     "text": [
      "{'id': Object, 'name': String, 'location': Struct({'lat': Float64, 'lon': Float64}), 'tags': List(String), 'data': String}\n"
     ]
    }
   ],
   "source": [
    "schema = to_polars_schema(Event)\n",
    "print(schema)"
   ]
  },
  {
   "cell_type": "code",
   "execution_count": 6,
   "id": "03829d98",
   "metadata": {},
   "outputs": [
    {
     "data": {
      "text/html": [
       "<div><style>\n",
       ".dataframe > thead > tr,\n",
       ".dataframe > tbody > tr {\n",
       "  text-align: right;\n",
       "  white-space: pre-wrap;\n",
       "}\n",
       "</style>\n",
       "<small>shape: (2, 5)</small><table border=\"1\" class=\"dataframe\"><thead><tr><th>id</th><th>name</th><th>location</th><th>tags</th><th>data</th></tr><tr><td>object</td><td>str</td><td>struct[2]</td><td>list[str]</td><td>str</td></tr></thead><tbody><tr><td>1</td><td>&quot;Launch&quot;</td><td>{40.0,-70.0}</td><td>[&quot;rocket&quot;]</td><td>&quot;payload&quot;</td></tr><tr><td>2</td><td>null</td><td>null</td><td>null</td><td>null</td></tr></tbody></table></div>"
      ],
      "text/plain": [
       "shape: (2, 5)\n",
       "┌────────┬────────┬──────────────┬────────────┬─────────┐\n",
       "│ id     ┆ name   ┆ location     ┆ tags       ┆ data    │\n",
       "│ ---    ┆ ---    ┆ ---          ┆ ---        ┆ ---     │\n",
       "│ object ┆ str    ┆ struct[2]    ┆ list[str]  ┆ str     │\n",
       "╞════════╪════════╪══════════════╪════════════╪═════════╡\n",
       "│ 1      ┆ Launch ┆ {40.0,-70.0} ┆ [\"rocket\"] ┆ payload │\n",
       "│ 2      ┆ null   ┆ null         ┆ null       ┆ null    │\n",
       "└────────┴────────┴──────────────┴────────────┴─────────┘"
      ]
     },
     "execution_count": 6,
     "metadata": {},
     "output_type": "execute_result"
    }
   ],
   "source": [
    "# Construct a Polars DataFrame using this schema\n",
    "data = [\n",
    "    {\"id\": 1, \"name\": \"Launch\", \"location\": {\"lat\": 40.0, \"lon\": -70.0}, \"tags\": [\"rocket\"], \"data\": \"payload\"},\n",
    "    {\"id\": '2', \"name\": None, \"location\": None, \"tags\": None, \"data\": None},\n",
    "]\n",
    "df = pl.DataFrame(data, schema=schema)\n",
    "df"
   ]
  }
 ],
 "metadata": {
  "kernelspec": {
   "display_name": ".venv",
   "language": "python",
   "name": "python3"
  },
  "language_info": {
   "codemirror_mode": {
    "name": "ipython",
    "version": 3
   },
   "file_extension": ".py",
   "mimetype": "text/x-python",
   "name": "python",
   "nbconvert_exporter": "python",
   "pygments_lexer": "ipython3",
   "version": "3.12.7"
  }
 },
 "nbformat": 4,
 "nbformat_minor": 5
}
