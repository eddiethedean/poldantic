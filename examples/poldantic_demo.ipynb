{
 "cells": [
  {
   "cell_type": "markdown",
   "id": "f121005a",
   "metadata": {},
   "source": [
    "# 🧪 Poldantic Demo: Convert Pydantic Models to Polars Schemas"
   ]
  },
  {
   "cell_type": "code",
   "execution_count": 1,
   "id": "86def300",
   "metadata": {},
   "outputs": [],
   "source": [
    "from pydantic import BaseModel\n",
    "from typing import Optional, List\n",
    "import polars as pl\n",
    "import poldantic as pd"
   ]
  },
  {
   "cell_type": "markdown",
   "id": "903e0e6d",
   "metadata": {},
   "source": [
    "## 🧩 Define nested Pydantic models"
   ]
  },
  {
   "cell_type": "code",
   "execution_count": 2,
   "id": "38b2beaf",
   "metadata": {},
   "outputs": [],
   "source": [
    "class Address(BaseModel):\n",
    "    street: str\n",
    "    city: str\n",
    "    zip_code: Optional[int]\n",
    "\n",
    "class User(BaseModel):\n",
    "    id: int\n",
    "    name: str\n",
    "    email: Optional[str]\n",
    "    is_active: bool\n",
    "    address: Address\n",
    "    tags: List[str]"
   ]
  },
  {
   "cell_type": "markdown",
   "id": "e2ca4973",
   "metadata": {},
   "source": [
    "## 📜 Polars Schema Outputs"
   ]
  },
  {
   "cell_type": "code",
   "execution_count": 3,
   "id": "51c25bf7",
   "metadata": {},
   "outputs": [
    {
     "name": "stdout",
     "output_type": "stream",
     "text": [
      "Polars schema dict:\n",
      "{'address': Struct({'street': String, 'city': String, 'zip_code': Int64}),\n",
      " 'email': String,\n",
      " 'id': Int64,\n",
      " 'is_active': Boolean,\n",
      " 'name': String,\n",
      " 'tags': List(String)}\n",
      "\n",
      "Polars schema (pl.Schema):\n",
      "Schema([('id', Int64),\n",
      "        ('name', String),\n",
      "        ('email', String),\n",
      "        ('is_active', Boolean),\n",
      "        ('address',\n",
      "         Struct({'street': String, 'city': String, 'zip_code': Int64})),\n",
      "        ('tags', List(String))])\n",
      "\n",
      "Polars Struct dtype:\n",
      "Struct({'id': Int64, 'name': String, 'email': String, 'is_active': Boolean, 'address': Struct({'street': String, 'city': String, 'zip_code': Int64}), 'tags': List(String)})\n",
      "'\\nFieldInfo dict:'\n",
      "id: FieldInfo(dtype=Int64, nullable=False)\n",
      "name: FieldInfo(dtype=String, nullable=False)\n",
      "email: FieldInfo(dtype=String, nullable=True)\n",
      "is_active: FieldInfo(dtype=Boolean, nullable=False)\n",
      "address: FieldInfo(dtype=Struct({'street': String, 'city': String, 'zip_code': Int64}), nullable=False)\n",
      "tags: FieldInfo(dtype=List(String), nullable=False)\n"
     ]
    }
   ],
   "source": [
    "from pprint import pprint\n",
    "\n",
    "schema_dict = pd.get_polars_schema_dict(User)\n",
    "print(\"Polars schema dict:\")\n",
    "pprint(schema_dict)\n",
    "\n",
    "schema_obj = pd.get_polars_schema(User)\n",
    "print(\"\\nPolars schema (pl.Schema):\")\n",
    "pprint(schema_obj)\n",
    "\n",
    "struct_dtype = pd.get_polars_struct(User)\n",
    "print(\"\\nPolars Struct dtype:\")\n",
    "pprint(struct_dtype)\n",
    "\n",
    "fieldinfo = pd.get_polars_fieldinfo_dict(User)\n",
    "pprint(\"\\nFieldInfo dict:\")\n",
    "for name, info in fieldinfo.items():\n",
    "    print(f\"{name}: {info}\")"
   ]
  },
  {
   "cell_type": "markdown",
   "id": "1d39bbfd",
   "metadata": {},
   "source": [
    "## 📊 Create a Polars DataFrame and show inferred schema"
   ]
  },
  {
   "cell_type": "code",
   "execution_count": 4,
   "id": "6cde3edc",
   "metadata": {},
   "outputs": [
    {
     "name": "stdout",
     "output_type": "stream",
     "text": [
      "Polars DataFrame:\n",
      "shape: (2, 6)\n",
      "┌─────┬───────┬───────────────┬───────────┬─────────────────────────────┬────────────────────────┐\n",
      "│ id  ┆ name  ┆ email         ┆ is_active ┆ address                     ┆ tags                   │\n",
      "│ --- ┆ ---   ┆ ---           ┆ ---       ┆ ---                         ┆ ---                    │\n",
      "│ i64 ┆ str   ┆ str           ┆ bool      ┆ struct[3]                   ┆ list[str]              │\n",
      "╞═════╪═══════╪═══════════════╪═══════════╪═════════════════════════════╪════════════════════════╡\n",
      "│ 1   ┆ Alice ┆ a@example.com ┆ true      ┆ {\"123 Main St\",\"NYC\",10001} ┆ [\"admin\"]              │\n",
      "│ 2   ┆ Bob   ┆ null          ┆ false     ┆ {\"456 Side St\",\"LA\",null}   ┆ [\"editor\", \"reviewer\"] │\n",
      "└─────┴───────┴───────────────┴───────────┴─────────────────────────────┴────────────────────────┘\n",
      "\n",
      "Inferred Polars schema:\n",
      "Schema({'id': Int64, 'name': String, 'email': String, 'is_active': Boolean, 'address': Struct({'street': String, 'city': String, 'zip_code': Int64}), 'tags': List(String)})\n"
     ]
    }
   ],
   "source": [
    "data = {\n",
    "    \"id\": [1, 2],\n",
    "    \"name\": [\"Alice\", \"Bob\"],\n",
    "    \"email\": [\"a@example.com\", None],\n",
    "    \"is_active\": [True, False],\n",
    "    \"address\": [\n",
    "        {\"street\": \"123 Main St\", \"city\": \"NYC\", \"zip_code\": 10001},\n",
    "        {\"street\": \"456 Side St\", \"city\": \"LA\", \"zip_code\": None},\n",
    "    ],\n",
    "    \"tags\": [[\"admin\"], [\"editor\", \"reviewer\"]],\n",
    "}\n",
    "\n",
    "df = pl.DataFrame(data)\n",
    "print(\"Polars DataFrame:\")\n",
    "print(df)\n",
    "\n",
    "print(\"\\nInferred Polars schema:\")\n",
    "print(df.schema)"
   ]
  }
 ],
 "metadata": {
  "kernelspec": {
   "display_name": ".venv",
   "language": "python",
   "name": "python3"
  },
  "language_info": {
   "codemirror_mode": {
    "name": "ipython",
    "version": 3
   },
   "file_extension": ".py",
   "mimetype": "text/x-python",
   "name": "python",
   "nbconvert_exporter": "python",
   "pygments_lexer": "ipython3",
   "version": "3.12.7"
  }
 },
 "nbformat": 4,
 "nbformat_minor": 5
}
