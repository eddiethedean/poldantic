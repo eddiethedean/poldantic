{
 "cells": [
  {
   "cell_type": "markdown",
   "metadata": {},
   "source": [
    "# 03 - Settings & Configuration\n",
    "\n",
    "Customize Poldantic behavior with settings."
   ]
  },
  {
   "cell_type": "code",
   "execution_count": 1,
   "metadata": {},
   "outputs": [],
   "source": [
    "from pydantic import BaseModel\n",
    "from enum import Enum\n",
    "import polars as pl\n",
    "from poldantic.infer_polars import settings, Settings, set_settings, get_settings, to_polars_schema"
   ]
  },
  {
   "cell_type": "markdown",
   "metadata": {},
   "source": [
    "## 1. Default Settings"
   ]
  },
  {
   "cell_type": "code",
   "execution_count": 2,
   "metadata": {},
   "outputs": [
    {
     "output_type": "stream",
     "name": "stdout",
     "text": [
      "Current settings:\n",
      "  use_pl_enum_for_string_enums: True\n",
      "  decimal_precision: 38\n",
      "  decimal_scale: 18\n",
      "  uuid_as_string: True\n"
     ]
    }
   ],
   "source": [
    "print('Current settings:')\n",
    "print(f'  use_pl_enum_for_string_enums: {settings.use_pl_enum_for_string_enums}')\n",
    "print(f'  decimal_precision: {settings.decimal_precision}')\n",
    "print(f'  decimal_scale: {settings.decimal_scale}')\n",
    "print(f'  uuid_as_string: {settings.uuid_as_string}')"
   ]
  },
  {
   "cell_type": "markdown",
   "metadata": {},
   "source": [
    "## 2. Modifying Settings (Backward Compatible)"
   ]
  },
  {
   "cell_type": "code",
   "execution_count": 3,
   "metadata": {},
   "outputs": [
    {
     "output_type": "stream",
     "name": "stdout",
     "text": [
      "Modified settings:\n",
      "  decimal_precision: 10\n",
      "  decimal_scale: 2\n"
     ]
    }
   ],
   "source": [
    "# Modify settings\n",
    "settings.decimal_precision = 10\n",
    "settings.decimal_scale = 2\n",
    "\n",
    "print('Modified settings:')\n",
    "print(f'  decimal_precision: {settings.decimal_precision}')\n",
    "print(f'  decimal_scale: {settings.decimal_scale}')"
   ]
  },
  {
   "cell_type": "markdown",
   "metadata": {},
   "source": [
    "## 3. Context-Aware Settings (Thread-Safe)"
   ]
  },
  {
   "cell_type": "code",
   "execution_count": 4,
   "metadata": {},
   "outputs": [
    {
     "output_type": "stream",
     "name": "stdout",
     "text": [
      "Custom settings applied:\n",
      "  decimal_precision: 20\n",
      "  decimal_scale: 4\n"
     ]
    }
   ],
   "source": [
    "# Create custom settings\n",
    "custom = Settings(\n",
    "    use_pl_enum_for_string_enums=False,\n",
    "    decimal_precision=20,\n",
    "    decimal_scale=4,\n",
    "    uuid_as_string=False\n",
    ")\n",
    "\n",
    "# Apply settings to current context\n",
    "set_settings(custom)\n",
    "\n",
    "# Verify\n",
    "current = get_settings()\n",
    "print('Custom settings applied:')\n",
    "print(f'  decimal_precision: {current.decimal_precision}')\n",
    "print(f'  decimal_scale: {current.decimal_scale}')"
   ]
  },
  {
   "cell_type": "markdown",
   "metadata": {},
   "source": [
    "## 4. Enum Handling"
   ]
  },
  {
   "cell_type": "code",
   "execution_count": 5,
   "metadata": {},
   "outputs": [
    {
     "output_type": "stream",
     "name": "stdout",
     "text": [
      "With pl.Enum: {'name': String, 'color': Enum(categories=['red', 'green', 'blue'])}\n",
      "Without pl.Enum: {'name': String, 'color': String}\n"
     ]
    }
   ],
   "source": [
    "class Color(str, Enum):\n",
    "    RED = 'red'\n",
    "    GREEN = 'green'\n",
    "    BLUE = 'blue'\n",
    "\n",
    "class Item(BaseModel):\n",
    "    name: str\n",
    "    color: Color\n",
    "\n",
    "# With pl.Enum enabled\n",
    "settings.use_pl_enum_for_string_enums = True\n",
    "schema1 = to_polars_schema(Item)\n",
    "print('With pl.Enum:', schema1)\n",
    "\n",
    "# With pl.Enum disabled\n",
    "settings.use_pl_enum_for_string_enums = False\n",
    "schema2 = to_polars_schema(Item)\n",
    "print('Without pl.Enum:', schema2)"
   ]
  }
 ],
 "metadata": {
  "kernelspec": {
   "display_name": "Python 3",
   "language": "python",
   "name": "python3"
  }
 },
 "nbformat": 4,
 "nbformat_minor": 5
}