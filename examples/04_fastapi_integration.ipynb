{
 "cells": [
  {
   "cell_type": "markdown",
   "metadata": {},
   "source": [
    "# 04 - FastAPI Integration\n",
    "\n",
    "Use Poldantic to bridge Pydantic models and Polars DataFrames in FastAPI."
   ]
  },
  {
   "cell_type": "code",
   "execution_count": 1,
   "metadata": {},
   "outputs": [],
   "source": [
    "from pydantic import BaseModel\n",
    "import polars as pl\n",
    "from poldantic import to_polars_schema, to_pydantic_model"
   ]
  },
  {
   "cell_type": "markdown",
   "metadata": {},
   "source": [
    "## 1. Define Input Model"
   ]
  },
  {
   "cell_type": "code",
   "execution_count": 2,
   "metadata": {},
   "outputs": [
    {
     "output_type": "stream",
     "name": "stdout",
     "text": [
      "Input model defined\n"
     ]
    }
   ],
   "source": [
    "class UserInput(BaseModel):\n",
    "    id: int\n",
    "    name: str\n",
    "    email: str\n",
    "    age: int\n",
    "\n",
    "print('Input model defined')"
   ]
  },
  {
   "cell_type": "markdown",
   "metadata": {},
   "source": [
    "## 2. Create Polars Schema"
   ]
  },
  {
   "cell_type": "code",
   "execution_count": 3,
   "metadata": {},
   "outputs": [
    {
     "output_type": "stream",
     "name": "stdout",
     "text": [
      "Polars schema: {'id': Int64, 'name': String, 'email': String, 'age': Int64}\n"
     ]
    }
   ],
   "source": [
    "schema = to_polars_schema(UserInput)\n",
    "print('Polars schema:', schema)"
   ]
  },
  {
   "cell_type": "markdown",
   "metadata": {},
   "source": [
    "## 3. Generate Response Model"
   ]
  },
  {
   "cell_type": "code",
   "execution_count": 4,
   "metadata": {},
   "outputs": [
    {
     "output_type": "stream",
     "name": "stdout",
     "text": [
      "Response model created\n",
      "Fields: ['id', 'name', 'email', 'age']\n"
     ]
    }
   ],
   "source": [
    "# Create response model with same schema\n",
    "UserOutput = to_pydantic_model(schema, 'UserOutput', force_optional=False)\n",
    "\n",
    "print('Response model created')\n",
    "print('Fields:', list(UserOutput.model_fields.keys()))"
   ]
  },
  {
   "cell_type": "markdown",
   "metadata": {},
   "source": [
    "## 4. Simulate API Endpoint Logic"
   ]
  },
  {
   "cell_type": "code",
   "execution_count": 5,
   "metadata": {},
   "outputs": [
    {
     "output_type": "stream",
     "name": "stdout",
     "text": [
      "DataFrame with 3 users\n",
      "shape: (3, 4)\n",
      "\u250c\u2500\u2500\u2500\u2500\u2500\u252c\u2500\u2500\u2500\u2500\u2500\u2500\u2500\u2500\u2500\u252c\u2500\u2500\u2500\u2500\u2500\u2500\u2500\u2500\u2500\u2500\u2500\u2500\u2500\u2500\u2500\u2500\u2500\u2500\u2500\u2500\u2500\u252c\u2500\u2500\u2500\u2500\u2500\u2510\n",
      "\u2502 id  \u2506 name    \u2506 email               \u2506 age \u2502\n",
      "\u2502 --- \u2506 ---     \u2506 ---                 \u2506 --- \u2502\n",
      "\u2502 i64 \u2506 str     \u2506 str                 \u2506 i64 \u2502\n",
      "\u255e\u2550\u2550\u2550\u2550\u2550\u256a\u2550\u2550\u2550\u2550\u2550\u2550\u2550\u2550\u2550\u256a\u2550\u2550\u2550\u2550\u2550\u2550\u2550\u2550\u2550\u2550\u2550\u2550\u2550\u2550\u2550\u2550\u2550\u2550\u2550\u2550\u2550\u256a\u2550\u2550\u2550\u2550\u2550\u2561\n",
      "\u2502 1   \u2506 Alice   \u2506 alice@example.com   \u2506 30  \u2502\n",
      "\u2502 2   \u2506 Bob     \u2506 bob@example.com     \u2506 25  \u2502\n",
      "\u2502 3   \u2506 Charlie \u2506 charlie@example.com \u2506 35  \u2502\n",
      "\u2514\u2500\u2500\u2500\u2500\u2500\u2534\u2500\u2500\u2500\u2500\u2500\u2500\u2500\u2500\u2500\u2534\u2500\u2500\u2500\u2500\u2500\u2500\u2500\u2500\u2500\u2500\u2500\u2500\u2500\u2500\u2500\u2500\u2500\u2500\u2500\u2500\u2500\u2534\u2500\u2500\u2500\u2500\u2500\u2518\n"
     ]
    }
   ],
   "source": [
    "# Simulate database data in Polars\n",
    "users_df = pl.DataFrame([\n",
    "    {'id': 1, 'name': 'Alice', 'email': 'alice@example.com', 'age': 30},\n",
    "    {'id': 2, 'name': 'Bob', 'email': 'bob@example.com', 'age': 25},\n",
    "    {'id': 3, 'name': 'Charlie', 'email': 'charlie@example.com', 'age': 35},\n",
    "], schema=schema)\n",
    "\n",
    "print('DataFrame with', users_df.shape[0], 'users')\n",
    "print(users_df)"
   ]
  },
  {
   "cell_type": "code",
   "execution_count": 6,
   "metadata": {},
   "outputs": [
    {
     "output_type": "stream",
     "name": "stdout",
     "text": [
      "\n",
      "Response data:\n",
      "[{'id': 1, 'name': 'Alice', 'email': 'alice@example.com', 'age': 30}, {'id': 2, 'name': 'Bob', 'email': 'bob@example.com', 'age': 25}, {'id': 3, 'name': 'Charlie', 'email': 'charlie@example.com', 'age': 35}]\n",
      "\n",
      "Validated responses:\n",
      "  id=1 name='Alice' email='alice@example.com' age=30\n",
      "  id=2 name='Bob' email='bob@example.com' age=25\n",
      "  id=3 name='Charlie' email='charlie@example.com' age=35\n"
     ]
    }
   ],
   "source": [
    "# Convert to API response format\n",
    "response_data = users_df.to_dicts()\n",
    "print('\\nResponse data:')\n",
    "print(response_data)\n",
    "\n",
    "# Validate with response model\n",
    "validated_users = [UserOutput(**user) for user in response_data]\n",
    "print('\\nValidated responses:')\n",
    "for user in validated_users:\n",
    "    print(f'  {user}')"
   ]
  },
  {
   "cell_type": "markdown",
   "metadata": {},
   "source": [
    "## 5. Complete FastAPI Example (Pseudo-code)\n",
    "\n",
    "```python\n",
    "from fastapi import FastAPI\n",
    "\n",
    "app = FastAPI()\n",
    "\n",
    "@app.get('/users', response_model=list[UserOutput])\n",
    "def list_users():\n",
    "    # Get data from Polars DataFrame\n",
    "    df = users_df.filter(pl.col('age') >= 25)\n",
    "    return df.to_dicts()\n",
    "\n",
    "@app.post('/users', response_model=UserOutput)\n",
    "def create_user(user: UserInput):\n",
    "    # Add to DataFrame\n",
    "    new_row = pl.DataFrame([user.model_dump()], schema=schema)\n",
    "    # ... append to database\n",
    "    return user\n",
    "```"
   ]
  }
 ],
 "metadata": {
  "kernelspec": {
   "display_name": "Python 3",
   "language": "python",
   "name": "python3"
  }
 },
 "nbformat": 4,
 "nbformat_minor": 5
}