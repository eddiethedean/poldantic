{
 "cells": [
  {
   "cell_type": "markdown",
   "id": "e26ab65a",
   "metadata": {},
   "source": [
    "# 📘 Poldantic Example\n",
    "\n",
    "Convert Pydantic models to Polars-compatible schemas using `to_polars_schema`."
   ]
  },
  {
   "cell_type": "code",
   "execution_count": 1,
   "id": "0c1338f2",
   "metadata": {},
   "outputs": [],
   "source": [
    "from typing import List\n",
    "from pydantic import BaseModel\n",
    "import polars as pl\n",
    "from poldantic import to_polars_schema"
   ]
  },
  {
   "cell_type": "code",
   "execution_count": 2,
   "id": "c2747903",
   "metadata": {},
   "outputs": [],
   "source": [
    "class Address(BaseModel):\n",
    "    street: str\n",
    "    zip: int"
   ]
  },
  {
   "cell_type": "code",
   "execution_count": 3,
   "id": "31c032a9",
   "metadata": {},
   "outputs": [],
   "source": [
    "class Customer(BaseModel):\n",
    "    id: int\n",
    "    name: str\n",
    "    address: Address\n",
    "    tags: List[str]"
   ]
  },
  {
   "cell_type": "code",
   "execution_count": 4,
   "id": "a16cc89a",
   "metadata": {},
   "outputs": [
    {
     "name": "stdout",
     "output_type": "stream",
     "text": [
      "{'id': Int64, 'name': String, 'address': Struct({'street': String, 'zip': Int64}), 'tags': List(String)}\n"
     ]
    }
   ],
   "source": [
    "schema = to_polars_schema(Customer)\n",
    "print(schema)"
   ]
  },
  {
   "cell_type": "code",
   "execution_count": 5,
   "id": "35757227",
   "metadata": {},
   "outputs": [
    {
     "data": {
      "text/html": [
       "<div><style>\n",
       ".dataframe > thead > tr,\n",
       ".dataframe > tbody > tr {\n",
       "  text-align: right;\n",
       "  white-space: pre-wrap;\n",
       "}\n",
       "</style>\n",
       "<small>shape: (2, 4)</small><table border=\"1\" class=\"dataframe\"><thead><tr><th>id</th><th>name</th><th>address</th><th>tags</th></tr><tr><td>i64</td><td>str</td><td>struct[2]</td><td>list[str]</td></tr></thead><tbody><tr><td>1</td><td>&quot;Alice&quot;</td><td>{&quot;Main&quot;,12345}</td><td>[&quot;a&quot;, &quot;b&quot;]</td></tr><tr><td>2</td><td>&quot;Bob&quot;</td><td>{&quot;Elm&quot;,54321}</td><td>[&quot;c&quot;]</td></tr></tbody></table></div>"
      ],
      "text/plain": [
       "shape: (2, 4)\n",
       "┌─────┬───────┬────────────────┬────────────┐\n",
       "│ id  ┆ name  ┆ address        ┆ tags       │\n",
       "│ --- ┆ ---   ┆ ---            ┆ ---        │\n",
       "│ i64 ┆ str   ┆ struct[2]      ┆ list[str]  │\n",
       "╞═════╪═══════╪════════════════╪════════════╡\n",
       "│ 1   ┆ Alice ┆ {\"Main\",12345} ┆ [\"a\", \"b\"] │\n",
       "│ 2   ┆ Bob   ┆ {\"Elm\",54321}  ┆ [\"c\"]      │\n",
       "└─────┴───────┴────────────────┴────────────┘"
      ]
     },
     "execution_count": 5,
     "metadata": {},
     "output_type": "execute_result"
    }
   ],
   "source": [
    "# Use the schema in DataFrame construction\n",
    "df = pl.DataFrame([\n",
    "    {\"id\": 1, \"name\": \"Alice\", \"address\": {\"street\": \"Main\", \"zip\": 12345}, \"tags\": [\"a\", \"b\"]},\n",
    "    {\"id\": 2, \"name\": \"Bob\", \"address\": {\"street\": \"Elm\", \"zip\": 54321}, \"tags\": [\"c\"]},\n",
    "], schema=schema)\n",
    "df"
   ]
  }
 ],
 "metadata": {
  "kernelspec": {
   "display_name": ".venv",
   "language": "python",
   "name": "python3"
  },
  "language_info": {
   "codemirror_mode": {
    "name": "ipython",
    "version": 3
   },
   "file_extension": ".py",
   "mimetype": "text/x-python",
   "name": "python",
   "nbconvert_exporter": "python",
   "pygments_lexer": "ipython3",
   "version": "3.12.7"
  }
 },
 "nbformat": 4,
 "nbformat_minor": 5
}
