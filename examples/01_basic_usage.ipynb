{
 "cells": [
  {
   "cell_type": "markdown",
   "metadata": {},
   "source": [
    "# 01 - Basic Usage: Poldantic Fundamentals\n",
    "\n",
    "This notebook demonstrates the core functionality of Poldantic:\n",
    "- Converting Pydantic models to Polars schemas\n",
    "- Converting Polars schemas to Pydantic models\n",
    "- Round-trip conversions"
   ]
  },
  {
   "cell_type": "code",
   "execution_count": 1,
   "metadata": {},
   "outputs": [],
   "source": [
    "from typing import Optional, List\n",
    "from pydantic import BaseModel\n",
    "import polars as pl\n",
    "from poldantic import to_polars_schema, to_pydantic_model"
   ]
  },
  {
   "cell_type": "markdown",
   "metadata": {},
   "source": [
    "## 1. Pydantic \u279c Polars\n",
    "\n",
    "Convert a Pydantic model to a Polars schema."
   ]
  },
  {
   "cell_type": "code",
   "execution_count": 2,
   "metadata": {},
   "outputs": [
    {
     "output_type": "stream",
     "name": "stdout",
     "text": [
      "Polars Schema: {'id': Int64, 'name': String, 'email': String, 'age': Int64, 'active': Boolean}\n"
     ]
    }
   ],
   "source": [
    "class User(BaseModel):\n",
    "    id: int\n",
    "    name: str\n",
    "    email: str\n",
    "    age: int\n",
    "    active: bool\n",
    "\n",
    "schema = to_polars_schema(User)\n",
    "print('Polars Schema:', schema)"
   ]
  },
  {
   "cell_type": "code",
   "execution_count": 3,
   "metadata": {},
   "outputs": [
    {
     "output_type": "stream",
     "name": "stdout",
     "text": [
      "shape: (2, 5)\n",
      "\u250c\u2500\u2500\u2500\u2500\u2500\u252c\u2500\u2500\u2500\u2500\u2500\u2500\u2500\u252c\u2500\u2500\u2500\u2500\u2500\u2500\u2500\u2500\u2500\u2500\u2500\u2500\u2500\u2500\u2500\u2500\u2500\u2500\u2500\u252c\u2500\u2500\u2500\u2500\u2500\u252c\u2500\u2500\u2500\u2500\u2500\u2500\u2500\u2500\u2510\n",
      "\u2502 id  \u2506 name  \u2506 email             \u2506 age \u2506 active \u2502\n",
      "\u2502 --- \u2506 ---   \u2506 ---               \u2506 --- \u2506 ---    \u2502\n",
      "\u2502 i64 \u2506 str   \u2506 str               \u2506 i64 \u2506 bool   \u2502\n",
      "\u255e\u2550\u2550\u2550\u2550\u2550\u256a\u2550\u2550\u2550\u2550\u2550\u2550\u2550\u256a\u2550\u2550\u2550\u2550\u2550\u2550\u2550\u2550\u2550\u2550\u2550\u2550\u2550\u2550\u2550\u2550\u2550\u2550\u2550\u256a\u2550\u2550\u2550\u2550\u2550\u256a\u2550\u2550\u2550\u2550\u2550\u2550\u2550\u2550\u2561\n",
      "\u2502 1   \u2506 Alice \u2506 alice@example.com \u2506 30  \u2506 true   \u2502\n",
      "\u2502 2   \u2506 Bob   \u2506 bob@example.com   \u2506 25  \u2506 false  \u2502\n",
      "\u2514\u2500\u2500\u2500\u2500\u2500\u2534\u2500\u2500\u2500\u2500\u2500\u2500\u2500\u2534\u2500\u2500\u2500\u2500\u2500\u2500\u2500\u2500\u2500\u2500\u2500\u2500\u2500\u2500\u2500\u2500\u2500\u2500\u2500\u2534\u2500\u2500\u2500\u2500\u2500\u2534\u2500\u2500\u2500\u2500\u2500\u2500\u2500\u2500\u2518\n"
     ]
    }
   ],
   "source": [
    "# Create DataFrame with schema\n",
    "data = [\n",
    "    {'id': 1, 'name': 'Alice', 'email': 'alice@example.com', 'age': 30, 'active': True},\n",
    "    {'id': 2, 'name': 'Bob', 'email': 'bob@example.com', 'age': 25, 'active': False},\n",
    "]\n",
    "\n",
    "df = pl.DataFrame(data, schema=schema)\n",
    "print(df)"
   ]
  },
  {
   "cell_type": "markdown",
   "metadata": {},
   "source": [
    "## 2. Polars \u279c Pydantic\n",
    "\n",
    "Convert a Polars schema to a Pydantic model."
   ]
  },
  {
   "cell_type": "code",
   "execution_count": 4,
   "metadata": {},
   "outputs": [
    {
     "output_type": "stream",
     "name": "stdout",
     "text": [
      "id=3 name='Charlie' email='charlie@example.com' age=28 active=True\n"
     ]
    }
   ],
   "source": [
    "# Get schema from DataFrame\n",
    "polars_schema = df.schema\n",
    "\n",
    "# Convert to Pydantic model\n",
    "GeneratedUser = to_pydantic_model(polars_schema, 'GeneratedUser', force_optional=False)\n",
    "\n",
    "# Create instance\n",
    "user = GeneratedUser(id=3, name='Charlie', email='charlie@example.com', age=28, active=True)\n",
    "print(user)"
   ]
  },
  {
   "cell_type": "markdown",
   "metadata": {},
   "source": [
    "## 3. Optional Fields"
   ]
  },
  {
   "cell_type": "code",
   "execution_count": 5,
   "metadata": {},
   "outputs": [
    {
     "output_type": "stream",
     "name": "stdout",
     "text": [
      "Schema: {'id': Int64, 'name': String, 'description': String, 'tags': List(String)}\n",
      "shape: (2, 4)\n",
      "\u250c\u2500\u2500\u2500\u2500\u2500\u252c\u2500\u2500\u2500\u2500\u2500\u2500\u2500\u2500\u252c\u2500\u2500\u2500\u2500\u2500\u2500\u2500\u2500\u2500\u2500\u2500\u2500\u2500\u252c\u2500\u2500\u2500\u2500\u2500\u2500\u2500\u2500\u2500\u2500\u2500\u2510\n",
      "\u2502 id  \u2506 name   \u2506 description \u2506 tags      \u2502\n",
      "\u2502 --- \u2506 ---    \u2506 ---         \u2506 ---       \u2502\n",
      "\u2502 i64 \u2506 str    \u2506 str         \u2506 list[str] \u2502\n",
      "\u255e\u2550\u2550\u2550\u2550\u2550\u256a\u2550\u2550\u2550\u2550\u2550\u2550\u2550\u2550\u256a\u2550\u2550\u2550\u2550\u2550\u2550\u2550\u2550\u2550\u2550\u2550\u2550\u2550\u256a\u2550\u2550\u2550\u2550\u2550\u2550\u2550\u2550\u2550\u2550\u2550\u2561\n",
      "\u2502 1   \u2506 Widget \u2506 Useful      \u2506 [\"tool\"]  \u2502\n",
      "\u2502 2   \u2506 Gadget \u2506 null        \u2506 null      \u2502\n",
      "\u2514\u2500\u2500\u2500\u2500\u2500\u2534\u2500\u2500\u2500\u2500\u2500\u2500\u2500\u2500\u2534\u2500\u2500\u2500\u2500\u2500\u2500\u2500\u2500\u2500\u2500\u2500\u2500\u2500\u2534\u2500\u2500\u2500\u2500\u2500\u2500\u2500\u2500\u2500\u2500\u2500\u2518\n"
     ]
    }
   ],
   "source": [
    "class Product(BaseModel):\n",
    "    id: int\n",
    "    name: str\n",
    "    description: Optional[str] = None\n",
    "    tags: Optional[List[str]] = None\n",
    "\n",
    "schema = to_polars_schema(Product)\n",
    "print('Schema:', schema)\n",
    "\n",
    "products = [\n",
    "    {'id': 1, 'name': 'Widget', 'description': 'Useful', 'tags': ['tool']},\n",
    "    {'id': 2, 'name': 'Gadget', 'description': None, 'tags': None},\n",
    "]\n",
    "\n",
    "df = pl.DataFrame(products, schema=schema)\n",
    "print(df)"
   ]
  }
 ],
 "metadata": {
  "kernelspec": {
   "display_name": "Python 3",
   "language": "python",
   "name": "python3"
  }
 },
 "nbformat": 4,
 "nbformat_minor": 5
}