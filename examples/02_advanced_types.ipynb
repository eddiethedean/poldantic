{
 "cells": [
  {
   "cell_type": "markdown",
   "metadata": {},
   "source": [
    "# 02 - Advanced Types\n",
    "\n",
    "Complex types, nested models, enums, and more."
   ]
  },
  {
   "cell_type": "code",
   "execution_count": 1,
   "metadata": {},
   "outputs": [],
   "source": [
    "from typing import Optional, List, Union\n",
    "from pydantic import BaseModel\n",
    "from enum import Enum\n",
    "import polars as pl\n",
    "from poldantic import to_polars_schema"
   ]
  },
  {
   "cell_type": "markdown",
   "metadata": {},
   "source": [
    "## 1. Nested Models"
   ]
  },
  {
   "cell_type": "code",
   "execution_count": 2,
   "metadata": {},
   "outputs": [
    {
     "output_type": "stream",
     "name": "stdout",
     "text": [
      "Nested schema: {'id': Int64, 'name': String, 'address': Struct({'street': String, 'city': String, 'zip': Int64})}\n",
      "shape: (1, 3)\n",
      "\u250c\u2500\u2500\u2500\u2500\u2500\u252c\u2500\u2500\u2500\u2500\u2500\u2500\u2500\u252c\u2500\u2500\u2500\u2500\u2500\u2500\u2500\u2500\u2500\u2500\u2500\u2500\u2500\u2500\u2500\u2500\u2500\u2500\u2500\u2500\u2500\u2500\u2500\u2500\u2500\u2500\u2510\n",
      "\u2502 id  \u2506 name  \u2506 address                  \u2502\n",
      "\u2502 --- \u2506 ---   \u2506 ---                      \u2502\n",
      "\u2502 i64 \u2506 str   \u2506 struct[3]                \u2502\n",
      "\u255e\u2550\u2550\u2550\u2550\u2550\u256a\u2550\u2550\u2550\u2550\u2550\u2550\u2550\u256a\u2550\u2550\u2550\u2550\u2550\u2550\u2550\u2550\u2550\u2550\u2550\u2550\u2550\u2550\u2550\u2550\u2550\u2550\u2550\u2550\u2550\u2550\u2550\u2550\u2550\u2550\u2561\n",
      "\u2502 1   \u2506 Alice \u2506 {\"123 Main\",\"NYC\",10001} \u2502\n",
      "\u2514\u2500\u2500\u2500\u2500\u2500\u2534\u2500\u2500\u2500\u2500\u2500\u2500\u2500\u2534\u2500\u2500\u2500\u2500\u2500\u2500\u2500\u2500\u2500\u2500\u2500\u2500\u2500\u2500\u2500\u2500\u2500\u2500\u2500\u2500\u2500\u2500\u2500\u2500\u2500\u2500\u2518\n"
     ]
    }
   ],
   "source": [
    "class Address(BaseModel):\n",
    "    street: str\n",
    "    city: str\n",
    "    zip: int\n",
    "\n",
    "class Customer(BaseModel):\n",
    "    id: int\n",
    "    name: str\n",
    "    address: Address\n",
    "\n",
    "schema = to_polars_schema(Customer)\n",
    "print('Nested schema:', schema)\n",
    "\n",
    "# Create DataFrame\n",
    "data = [{\n",
    "    'id': 1,\n",
    "    'name': 'Alice',\n",
    "    'address': {'street': '123 Main', 'city': 'NYC', 'zip': 10001}\n",
    "}]\n",
    "\n",
    "df = pl.DataFrame(data, schema=schema)\n",
    "print(df)"
   ]
  },
  {
   "cell_type": "markdown",
   "metadata": {},
   "source": [
    "## 2. Enums"
   ]
  },
  {
   "cell_type": "code",
   "execution_count": 3,
   "metadata": {},
   "outputs": [
    {
     "output_type": "stream",
     "name": "stdout",
     "text": [
      "Enum schema: {'id': Int64, 'title': String, 'status': Enum(categories=['pending', 'active', 'completed'])}\n",
      "shape: (2, 3)\n",
      "\u250c\u2500\u2500\u2500\u2500\u2500\u252c\u2500\u2500\u2500\u2500\u2500\u2500\u2500\u2500\u2500\u252c\u2500\u2500\u2500\u2500\u2500\u2500\u2500\u2500\u2500\u2500\u2500\u2510\n",
      "\u2502 id  \u2506 title   \u2506 status    \u2502\n",
      "\u2502 --- \u2506 ---     \u2506 ---       \u2502\n",
      "\u2502 i64 \u2506 str     \u2506 enum      \u2502\n",
      "\u255e\u2550\u2550\u2550\u2550\u2550\u256a\u2550\u2550\u2550\u2550\u2550\u2550\u2550\u2550\u2550\u256a\u2550\u2550\u2550\u2550\u2550\u2550\u2550\u2550\u2550\u2550\u2550\u2561\n",
      "\u2502 1   \u2506 Setup   \u2506 completed \u2502\n",
      "\u2502 2   \u2506 Testing \u2506 active    \u2502\n",
      "\u2514\u2500\u2500\u2500\u2500\u2500\u2534\u2500\u2500\u2500\u2500\u2500\u2500\u2500\u2500\u2500\u2534\u2500\u2500\u2500\u2500\u2500\u2500\u2500\u2500\u2500\u2500\u2500\u2518\n"
     ]
    }
   ],
   "source": [
    "class Status(str, Enum):\n",
    "    PENDING = 'pending'\n",
    "    ACTIVE = 'active'\n",
    "    COMPLETED = 'completed'\n",
    "\n",
    "class Task(BaseModel):\n",
    "    id: int\n",
    "    title: str\n",
    "    status: Status\n",
    "\n",
    "schema = to_polars_schema(Task)\n",
    "print('Enum schema:', schema)\n",
    "\n",
    "tasks = [\n",
    "    {'id': 1, 'title': 'Setup', 'status': 'completed'},\n",
    "    {'id': 2, 'title': 'Testing', 'status': 'active'},\n",
    "]\n",
    "\n",
    "df = pl.DataFrame(tasks, schema=schema)\n",
    "print(df)"
   ]
  },
  {
   "cell_type": "markdown",
   "metadata": {},
   "source": [
    "## 3. Lists and Complex Collections"
   ]
  },
  {
   "cell_type": "code",
   "execution_count": 4,
   "metadata": {},
   "outputs": [
    {
     "output_type": "stream",
     "name": "stdout",
     "text": [
      "List schema: {'id': Int64, 'title': String, 'tags': List(String), 'scores': List(Float64)}\n",
      "shape: (2, 4)\n",
      "\u250c\u2500\u2500\u2500\u2500\u2500\u252c\u2500\u2500\u2500\u2500\u2500\u2500\u2500\u2500\u2500\u2500\u252c\u2500\u2500\u2500\u2500\u2500\u2500\u2500\u2500\u2500\u2500\u2500\u2500\u2500\u2500\u2500\u2500\u2500\u2500\u2500\u2500\u2500\u2500\u2500\u2500\u252c\u2500\u2500\u2500\u2500\u2500\u2500\u2500\u2500\u2500\u2500\u2500\u2500\u2510\n",
      "\u2502 id  \u2506 title    \u2506 tags                   \u2506 scores     \u2502\n",
      "\u2502 --- \u2506 ---      \u2506 ---                    \u2506 ---        \u2502\n",
      "\u2502 i64 \u2506 str      \u2506 list[str]              \u2506 list[f64]  \u2502\n",
      "\u255e\u2550\u2550\u2550\u2550\u2550\u256a\u2550\u2550\u2550\u2550\u2550\u2550\u2550\u2550\u2550\u2550\u256a\u2550\u2550\u2550\u2550\u2550\u2550\u2550\u2550\u2550\u2550\u2550\u2550\u2550\u2550\u2550\u2550\u2550\u2550\u2550\u2550\u2550\u2550\u2550\u2550\u256a\u2550\u2550\u2550\u2550\u2550\u2550\u2550\u2550\u2550\u2550\u2550\u2550\u2561\n",
      "\u2502 1   \u2506 Intro    \u2506 [\"python\", \"tutorial\"] \u2506 [4.5, 4.8] \u2502\n",
      "\u2502 2   \u2506 Advanced \u2506 [\"python\", \"advanced\"] \u2506 [4.9, 4.7] \u2502\n",
      "\u2514\u2500\u2500\u2500\u2500\u2500\u2534\u2500\u2500\u2500\u2500\u2500\u2500\u2500\u2500\u2500\u2500\u2534\u2500\u2500\u2500\u2500\u2500\u2500\u2500\u2500\u2500\u2500\u2500\u2500\u2500\u2500\u2500\u2500\u2500\u2500\u2500\u2500\u2500\u2500\u2500\u2500\u2534\u2500\u2500\u2500\u2500\u2500\u2500\u2500\u2500\u2500\u2500\u2500\u2500\u2518\n"
     ]
    }
   ],
   "source": [
    "class Article(BaseModel):\n",
    "    id: int\n",
    "    title: str\n",
    "    tags: List[str]\n",
    "    scores: List[float]\n",
    "\n",
    "schema = to_polars_schema(Article)\n",
    "print('List schema:', schema)\n",
    "\n",
    "articles = [\n",
    "    {'id': 1, 'title': 'Intro', 'tags': ['python', 'tutorial'], 'scores': [4.5, 4.8]},\n",
    "    {'id': 2, 'title': 'Advanced', 'tags': ['python', 'advanced'], 'scores': [4.9, 4.7]},\n",
    "]\n",
    "\n",
    "df = pl.DataFrame(articles, schema=schema)\n",
    "print(df)"
   ]
  },
  {
   "cell_type": "markdown",
   "metadata": {},
   "source": [
    "## 4. Deeply Nested Structures"
   ]
  },
  {
   "cell_type": "code",
   "execution_count": 5,
   "metadata": {},
   "outputs": [
    {
     "output_type": "stream",
     "name": "stdout",
     "text": [
      "Deeply nested schema: {'order_id': Int64, 'items': List(Struct({'name': String, 'quantity': Int64})), 'total': Float64}\n"
     ]
    }
   ],
   "source": [
    "class Item(BaseModel):\n",
    "    name: str\n",
    "    quantity: int\n",
    "\n",
    "class Order(BaseModel):\n",
    "    order_id: int\n",
    "    items: List[Item]\n",
    "    total: float\n",
    "\n",
    "# Note: List[BaseModel] maps to List(Struct(...))\n",
    "schema = to_polars_schema(Order)\n",
    "print('Deeply nested schema:', schema)"
   ]
  }
 ],
 "metadata": {
  "kernelspec": {
   "display_name": "Python 3",
   "language": "python",
   "name": "python3"
  }
 },
 "nbformat": 4,
 "nbformat_minor": 5
}